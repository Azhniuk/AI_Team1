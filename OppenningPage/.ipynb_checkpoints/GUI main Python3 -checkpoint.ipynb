{
 "cells": [
  {
   "cell_type": "markdown",
   "id": "b136b8e7",
   "metadata": {},
   "source": [
    "Additional software requirements \n",
    "\n",
    "At the beginning of the game, the game software randomly generates 5 numbers in the range of 10000 to 20000, but those that are initially divisible by both 3 and 2. The human-player chooses which of the generated numbers he wants to start the game with. \n",
    "\n",
    " \n",
    "\n",
    "Game description \n",
    "he number chosen by the human-player is given. Both players have 0 points. In addition, the game uses a game bank, which is initially equal to 0. Players make consecutive moves, dividing the current number by 2 or 3 in each move. The number can be divided only if the result is a whole number. If the division results in an even number, then the player gets 1 point, if the number is odd, then his points are reduced by 1 point. On the other hand, if a number ending with 0 or 5 is obtained, then 1 point is added to the bank. The game ends when the number 2 or 3 is acquired. The player after whose turn the number 2 is acquired empties the bank by adding bank points to his points. The player with the higher number of points at the end of the game wins. If the number of points is equal, then the result is a draw."
   ]
  },
  {
   "cell_type": "code",
   "execution_count": 2,
   "id": "75053e7f",
   "metadata": {},
   "outputs": [],
   "source": [
    "import tkinter as tk\n",
    "from tkinter import ttk\n",
    "\n",
    "def display_how_to_play():\n",
    "    # Add code to display instructions on how to play the game\n",
    "    pass\n",
    "\n",
    "def start_vs_computer():\n",
    "    # Add code to start the game against computer\n",
    "    pass\n",
    "\n",
    "def start_vs_human():\n",
    "    # Add code to start the game against human\n",
    "    pass\n",
    "\n",
    "root = tk.Tk()\n",
    "root.title(\"NUMBER GAME\")\n",
    "\n",
    "# Create a frame for better organization\n",
    "frame = ttk.Frame(root)\n",
    "frame.pack(padx=20, pady=10)\n",
    "\n",
    "# Create a label with the text \"NUMBER GAME\"\n",
    "label_title = ttk.Label(frame, text=\"NUMBER GAME\", font=(\"Helvetica\", 18, \"bold\"))\n",
    "label_title.grid(row=0, column=0, columnspan=2, padx=10, pady=10)\n",
    "\n",
    "# Button to display instructions on how to play\n",
    "button_how_to_play = ttk.Button(frame, text=\"How To Play?\", command=display_how_to_play)\n",
    "button_how_to_play.grid(row=1, column=0, padx=10, pady=5, sticky=\"ew\")\n",
    "\n",
    "# Button to start the game against computer\n",
    "button_vs_computer = ttk.Button(frame, text=\"Vs Computer\", command=start_vs_computer)\n",
    "button_vs_computer.grid(row=2, column=0, padx=10, pady=5, sticky=\"ew\")\n",
    "\n",
    "# Button to start the game against human\n",
    "button_vs_human = ttk.Button(frame, text=\"Vs Human\", command=start_vs_human)\n",
    "button_vs_human.grid(row=3, column=0, padx=10, pady=5, sticky=\"ew\")\n",
    "\n",
    "# Add some padding to the right of the frame\n",
    "frame.grid_columnconfigure(1, weight=1)\n",
    "\n",
    "# Start the Tkinter event loop\n",
    "root.mainloop()\n"
   ]
  },
  {
   "cell_type": "code",
   "execution_count": null,
   "id": "68aa4b5a",
   "metadata": {},
   "outputs": [],
   "source": []
  }
 ],
 "metadata": {
  "kernelspec": {
   "display_name": "Python 3 (ipykernel)",
   "language": "python",
   "name": "python3"
  },
  "language_info": {
   "codemirror_mode": {
    "name": "ipython",
    "version": 3
   },
   "file_extension": ".py",
   "mimetype": "text/x-python",
   "name": "python",
   "nbconvert_exporter": "python",
   "pygments_lexer": "ipython3",
   "version": "3.7.16"
  }
 },
 "nbformat": 4,
 "nbformat_minor": 5
}
