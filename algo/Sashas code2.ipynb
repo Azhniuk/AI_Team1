{
 "cells": [
  {
   "cell_type": "code",
   "execution_count": 2,
   "id": "eeddf3d4",
   "metadata": {},
   "outputs": [
    {
     "name": "stdout",
     "output_type": "stream",
     "text": [
      "Enter a random number from 25 to 40: 27\n",
      "Your chosen number is 27\n"
     ]
    },
    {
     "ename": "AttributeError",
     "evalue": "module 'game_tree' has no attribute 'Game_tree'",
     "output_type": "error",
     "traceback": [
      "\u001b[1;31m---------------------------------------------------------------------------\u001b[0m",
      "\u001b[1;31mAttributeError\u001b[0m                            Traceback (most recent call last)",
      "\u001b[1;32m~\\AppData\\Local\\Temp\\ipykernel_5636\\2671813719.py\u001b[0m in \u001b[0;36m<module>\u001b[1;34m\u001b[0m\n\u001b[1;32m----> 1\u001b[1;33m \u001b[1;32mimport\u001b[0m \u001b[0mgame_tree\u001b[0m \u001b[1;32mas\u001b[0m \u001b[0mgt\u001b[0m\u001b[1;33m\u001b[0m\u001b[1;33m\u001b[0m\u001b[0m\n\u001b[0m\u001b[0;32m      2\u001b[0m \u001b[1;33m\u001b[0m\u001b[0m\n\u001b[0;32m      3\u001b[0m \u001b[1;32mclass\u001b[0m \u001b[0mPlayer\u001b[0m\u001b[1;33m:\u001b[0m\u001b[1;33m\u001b[0m\u001b[1;33m\u001b[0m\u001b[0m\n\u001b[0;32m      4\u001b[0m     \u001b[1;32mdef\u001b[0m \u001b[0m__init__\u001b[0m\u001b[1;33m(\u001b[0m\u001b[0mself\u001b[0m\u001b[1;33m)\u001b[0m\u001b[1;33m:\u001b[0m\u001b[1;33m\u001b[0m\u001b[1;33m\u001b[0m\u001b[0m\n\u001b[0;32m      5\u001b[0m         \u001b[0mself\u001b[0m\u001b[1;33m.\u001b[0m\u001b[0mscore\u001b[0m \u001b[1;33m=\u001b[0m \u001b[1;36m0\u001b[0m\u001b[1;33m\u001b[0m\u001b[1;33m\u001b[0m\u001b[0m\n",
      "\u001b[1;32m~\\Documents\\GitHub\\AI_Team1\\algo\\game_tree.py\u001b[0m in \u001b[0;36m<module>\u001b[1;34m\u001b[0m\n\u001b[0;32m     77\u001b[0m \u001b[1;33m\u001b[0m\u001b[0m\n\u001b[0;32m     78\u001b[0m \u001b[0mgame1\u001b[0m \u001b[1;33m=\u001b[0m \u001b[0mGame_logic\u001b[0m\u001b[1;33m(\u001b[0m\u001b[1;33m)\u001b[0m\u001b[1;33m\u001b[0m\u001b[1;33m\u001b[0m\u001b[0m\n\u001b[1;32m---> 79\u001b[1;33m \u001b[0mgame1\u001b[0m\u001b[1;33m.\u001b[0m\u001b[0mstart_game\u001b[0m\u001b[1;33m(\u001b[0m\u001b[1;33m)\u001b[0m\u001b[1;33m\u001b[0m\u001b[1;33m\u001b[0m\u001b[0m\n\u001b[0m",
      "\u001b[1;32m~\\Documents\\GitHub\\AI_Team1\\algo\\game_tree.py\u001b[0m in \u001b[0;36mstart_game\u001b[1;34m(self)\u001b[0m\n\u001b[0;32m     52\u001b[0m \u001b[1;33m\u001b[0m\u001b[0m\n\u001b[0;32m     53\u001b[0m     \u001b[1;32mdef\u001b[0m \u001b[0mstart_game\u001b[0m\u001b[1;33m(\u001b[0m\u001b[0mself\u001b[0m\u001b[1;33m)\u001b[0m\u001b[1;33m:\u001b[0m\u001b[1;33m\u001b[0m\u001b[1;33m\u001b[0m\u001b[0m\n\u001b[1;32m---> 54\u001b[1;33m         \u001b[0mself\u001b[0m\u001b[1;33m.\u001b[0m\u001b[0mchoose_number\u001b[0m\u001b[1;33m(\u001b[0m\u001b[1;33m)\u001b[0m\u001b[1;33m\u001b[0m\u001b[1;33m\u001b[0m\u001b[0m\n\u001b[0m\u001b[0;32m     55\u001b[0m         \u001b[1;32mwhile\u001b[0m \u001b[1;32mnot\u001b[0m \u001b[0mself\u001b[0m\u001b[1;33m.\u001b[0m\u001b[0mcheck_end\u001b[0m\u001b[1;33m(\u001b[0m\u001b[1;33m)\u001b[0m\u001b[1;33m:\u001b[0m\u001b[1;33m\u001b[0m\u001b[1;33m\u001b[0m\u001b[0m\n\u001b[0;32m     56\u001b[0m             \u001b[1;32mif\u001b[0m \u001b[0mself\u001b[0m\u001b[1;33m.\u001b[0m\u001b[0mturn\u001b[0m \u001b[1;33m%\u001b[0m \u001b[1;36m2\u001b[0m \u001b[1;33m==\u001b[0m \u001b[1;36m0\u001b[0m\u001b[1;33m:\u001b[0m  \u001b[1;31m# Human player's turn\u001b[0m\u001b[1;33m\u001b[0m\u001b[1;33m\u001b[0m\u001b[0m\n",
      "\u001b[1;32m~\\Documents\\GitHub\\AI_Team1\\algo\\game_tree.py\u001b[0m in \u001b[0;36mchoose_number\u001b[1;34m(self)\u001b[0m\n\u001b[0;32m     21\u001b[0m             \u001b[1;32mif\u001b[0m \u001b[1;36m25\u001b[0m \u001b[1;33m<=\u001b[0m \u001b[0mself\u001b[0m\u001b[1;33m.\u001b[0m\u001b[0mrandom_number\u001b[0m \u001b[1;33m<=\u001b[0m \u001b[1;36m40\u001b[0m\u001b[1;33m:\u001b[0m\u001b[1;33m\u001b[0m\u001b[1;33m\u001b[0m\u001b[0m\n\u001b[0;32m     22\u001b[0m                 \u001b[0mprint\u001b[0m\u001b[1;33m(\u001b[0m\u001b[1;34mf\"Your chosen number is {self.random_number}\"\u001b[0m\u001b[1;33m)\u001b[0m\u001b[1;33m\u001b[0m\u001b[1;33m\u001b[0m\u001b[0m\n\u001b[1;32m---> 23\u001b[1;33m                 \u001b[0mself\u001b[0m\u001b[1;33m.\u001b[0m\u001b[0mgt\u001b[0m \u001b[1;33m=\u001b[0m \u001b[0mgt\u001b[0m\u001b[1;33m.\u001b[0m\u001b[0mGame_tree\u001b[0m\u001b[1;33m(\u001b[0m\u001b[0mself\u001b[0m\u001b[1;33m.\u001b[0m\u001b[0mrandom_number\u001b[0m\u001b[1;33m)\u001b[0m\u001b[1;33m\u001b[0m\u001b[1;33m\u001b[0m\u001b[0m\n\u001b[0m\u001b[0;32m     24\u001b[0m             \u001b[1;32melse\u001b[0m\u001b[1;33m:\u001b[0m\u001b[1;33m\u001b[0m\u001b[1;33m\u001b[0m\u001b[0m\n\u001b[0;32m     25\u001b[0m                 \u001b[0mprint\u001b[0m\u001b[1;33m(\u001b[0m\u001b[1;34m\"Your number is out of range. Please try again.\"\u001b[0m\u001b[1;33m)\u001b[0m\u001b[1;33m\u001b[0m\u001b[1;33m\u001b[0m\u001b[0m\n",
      "\u001b[1;31mAttributeError\u001b[0m: module 'game_tree' has no attribute 'Game_tree'"
     ]
    }
   ],
   "source": [
    "import game_tree as gt\n",
    "\n",
    "class Player:\n",
    "    def __init__(self):\n",
    "        self.score = 0\n",
    "\n",
    "    def add_score(self, score):\n",
    "        self.score += score\n",
    "\n",
    "class Game_logic:\n",
    "    def __init__(self):\n",
    "        self.random_number = 0\n",
    "        self.players = [Player(), Player()]\n",
    "        self.bank_score = 0\n",
    "        self.turn = 0\n",
    "        self.level = 1\n",
    "\n",
    "    def choose_number(self):\n",
    "        while self.random_number < 25 or self.random_number > 40:\n",
    "            self.random_number = int(input(\"Enter a random number from 25 to 40: \"))\n",
    "            if 25 <= self.random_number <= 40:\n",
    "                print(f\"Your chosen number is {self.random_number}\")\n",
    "                self.gt = gt.Game_tree(self.random_number)\n",
    "            else:\n",
    "                print(\"Your number is out of range. Please try again.\")\n",
    "\n",
    "    def multiply_number(self):\n",
    "        coef = int(input(\"Choose a coefficient (from 2 to 4): \"))\n",
    "        if coef in [2, 3, 4]:\n",
    "            self.random_number *= coef\n",
    "            self.check_score()\n",
    "        else:\n",
    "            print(\"Invalid coefficient. Please choose again.\")\n",
    "\n",
    "    def check_score(self):\n",
    "        if self.random_number % 2 == 0:\n",
    "            self.players[self.turn].add_score(-1)\n",
    "        else:\n",
    "            self.players[self.turn].add_score(1)\n",
    "\n",
    "        if self.random_number % 5 == 0:\n",
    "            self.bank_score += 1\n",
    "\n",
    "        if self.random_number >= 5000:\n",
    "            self.players[self.turn].add_score(self.bank_score)\n",
    "            self.bank_score = 0\n",
    "\n",
    "        self.turn = 1 - self.turn\n",
    "\n",
    "    def check_end(self):\n",
    "        return self.random_number >= 5000\n",
    "\n",
    "    def start_game(self):\n",
    "        self.choose_number()\n",
    "        while not self.check_end():\n",
    "            if self.turn % 2 == 0:  # Human player's turn\n",
    "                print(f\"----------------------------------------Player {self.turn + 1} turn----------Round: {self.level} ------------------------------\")\n",
    "                coef = int(input(\"Choose a coefficient (from 2 to 4): \"))\n",
    "                self.random_number *= coef\n",
    "                self.check_score()\n",
    "            else:  # AI's turn\n",
    "                print(f\"----------------------------------------Player {self.turn + 1} turn----------Round: {self.level} ------------------------------\")\n",
    "                coef = self.gt.move_checking(self.random_number, self.level)\n",
    "                print(f\"AI has chosen coefficient {coef}.\")\n",
    "                self.random_number *= coef\n",
    "                self.check_score()\n",
    "\n",
    "            print(f\"Number: {self.random_number}\\nScore Human: {self.players[0].score}\\nScore AI: {self.players[1].score}\\nBank: {self.bank_score}\")\n",
    "            self.level += 1\n",
    "\n",
    "        if self.players[0].score > self.players[1].score:\n",
    "            print(\"Human wins!\")\n",
    "        elif self.players[0].score < self.players[1].score:\n",
    "            print(\"AI wins!\")\n",
    "        else:\n",
    "            print(\"It's a draw!\")\n",
    "\n",
    "game1 = Game_logic()\n",
    "game1.start_game()"
   ]
  },
  {
   "cell_type": "code",
   "execution_count": null,
   "id": "b11edace",
   "metadata": {},
   "outputs": [],
   "source": []
  }
 ],
 "metadata": {
  "kernelspec": {
   "display_name": "Python 3 (ipykernel)",
   "language": "python",
   "name": "python3"
  },
  "language_info": {
   "codemirror_mode": {
    "name": "ipython",
    "version": 3
   },
   "file_extension": ".py",
   "mimetype": "text/x-python",
   "name": "python",
   "nbconvert_exporter": "python",
   "pygments_lexer": "ipython3",
   "version": "3.7.16"
  }
 },
 "nbformat": 4,
 "nbformat_minor": 5
}
