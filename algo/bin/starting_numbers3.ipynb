{
 "cells": [
  {
   "cell_type": "code",
   "execution_count": null,
   "id": "ae957736",
   "metadata": {},
   "outputs": [],
   "source": [
    "import random\n",
    "\n",
    "def starting_numbers():\n",
    "    i = 0\n",
    "    l = []\n",
    "    while i < 5:\n",
    "        x = random.randint(10000,20000)\n",
    "        if x % 6 == 0:\n",
    "            l.append(x)\n",
    "            i+=1\n",
    "    return l\n",
    "\n",
    "print(starting_numbers())\n"
   ]
  }
 ],
 "metadata": {
  "kernelspec": {
   "display_name": "Python 3 (ipykernel)",
   "language": "python",
   "name": "python3"
  },
  "language_info": {
   "codemirror_mode": {
    "name": "ipython",
    "version": 3
   },
   "file_extension": ".py",
   "mimetype": "text/x-python",
   "name": "python",
   "nbconvert_exporter": "python",
   "pygments_lexer": "ipython3",
   "version": "3.7.16"
  }
 },
 "nbformat": 4,
 "nbformat_minor": 5
}
